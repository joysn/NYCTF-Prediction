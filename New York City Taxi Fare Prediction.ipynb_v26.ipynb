{
  "cells": [
    {
      "metadata": {
        "_uuid": "b4578d48b219735043a4d2102119fb307d2fc83f"
      },
      "cell_type": "markdown",
      "source": "# This is a basic Starter Kernel for the New York City Taxi Fare Prediction Playground Competition \nHere we'll use a simple linear model based on the travel vector from the taxi's pickup location to dropoff location which predicts the `fare_amount` of each ride.\n\nThis kernel uses some `pandas` and mostly `numpy` for the critical work.  There are many higher-level libraries you could use instead, for example `sklearn` or `statsmodels`.  "
    },
    {
      "metadata": {
        "_uuid": "8f2839f25d086af736a60e9eeb907d3b93b6e0e5",
        "_cell_guid": "b1076dfc-b9ad-4769-8c92-a6c4dae69d19",
        "trusted": true,
        "collapsed": true
      },
      "cell_type": "code",
      "source": "# Initial Python environment setup...\nimport numpy as np # linear algebra\nimport pandas as pd # CSV file I/O (e.g. pd.read_csv)\nimport os # reading the input files we have access to\n\nprint(os.listdir('../input'))",
      "execution_count": null,
      "outputs": []
    },
    {
      "metadata": {
        "_uuid": "fb969a26e52931bcaced3cbb7a36d8d8b1b04556"
      },
      "cell_type": "markdown",
      "source": "### Setup training data\nFirst let's read in our training data.  Kernels do not yet support enough memory to load the whole dataset at once, at least using `pd.read_csv`.  The entire dataset is about 55M rows, so we're skipping a good portion of the data, but it's certainly possible to build a model using all the data."
    },
    {
      "metadata": {
        "_cell_guid": "79c7e3d0-c299-4dcb-8224-4455121ee9b0",
        "_uuid": "d629ff2d2480ee46fbb7e2d37f6b5fab8052498a",
        "trusted": true,
        "collapsed": true
      },
      "cell_type": "code",
      "source": "types = {'fare_amount': 'float32',\n         'pickup_longitude': 'float32',\n         'pickup_latitude': 'float32',\n         'dropoff_longitude': 'float32',\n         'dropoff_latitude': 'float32',\n         'passenger_count': 'uint8'}\n\n# Columns to keep (basically discarding the 'key' column) - thanks to the suggestion by mhviraf\ncols = ['fare_amount', 'pickup_datetime', 'pickup_longitude', 'pickup_latitude', 'dropoff_longitude', 'dropoff_latitude', 'passenger_count']\ntrain_df =  pd.read_csv('../input/train.csv',  parse_dates=[\"pickup_datetime\"], usecols=cols, infer_datetime_format=True, dtype=types, nrows = 10_000_000)\ntrain_df.dtypes",
      "execution_count": null,
      "outputs": []
    },
    {
      "metadata": {
        "_uuid": "25df18156ed90f583efdbbc028c58a9d2bdfdc7b"
      },
      "cell_type": "markdown",
      "source": "Let's create two new features in our training set representing the \"travel vector\" between the start and end points of the taxi ride, in both longitude and latitude coordinates.  We'll take the absolute value since we're only interested in distance traveled. Use a helper function since we'll want to do the same thing for the test set later."
    },
    {
      "metadata": {
        "trusted": true,
        "_uuid": "59f0595db44dd60044cfd0404824651a7c2bee87",
        "collapsed": true
      },
      "cell_type": "code",
      "source": "# Given a dataframe, add two new features 'abs_diff_longitude' and\n# 'abs_diff_latitude' reprensenting the \"Manhattan vector\" from\n# the pickup location to the dropoff location.\ndef add_travel_vector_features(df):\n    df['abs_diff_longitude'] = (df.dropoff_longitude - df.pickup_longitude).abs()\n    df['abs_diff_latitude'] = (df.dropoff_latitude - df.pickup_latitude).abs()\n\nadd_travel_vector_features(train_df)\ndel train_df['pickup_longitude']\ndel train_df['pickup_latitude']\ndel train_df['dropoff_longitude']\ndel train_df['dropoff_latitude']\ntrain_df.dtypes\ntrain_df.head(5)",
      "execution_count": null,
      "outputs": []
    },
    {
      "metadata": {
        "_uuid": "b1dbc7610bd467f1dfaf9042b5ec638eb2014aaf"
      },
      "cell_type": "markdown",
      "source": "### Explore and prune outliers\nFirst let's see if there are any `NaN`s in the dataset."
    },
    {
      "metadata": {
        "trusted": true,
        "_uuid": "e808c7e75338b45ca30f9f261dfbc90845700624",
        "collapsed": true
      },
      "cell_type": "code",
      "source": "print(train_df.isnull().sum())",
      "execution_count": null,
      "outputs": []
    },
    {
      "metadata": {
        "_uuid": "29bc86f2fa8baa37f0c4eb4300f77a8cb69f12aa"
      },
      "cell_type": "markdown",
      "source": "There are a small amount, so let's remove them from the dataset."
    },
    {
      "metadata": {
        "trusted": true,
        "_uuid": "9d8f28e24f3d4ca55ad93692329680774c341376",
        "collapsed": true
      },
      "cell_type": "code",
      "source": "print('Old size: %d' % len(train_df))\ntrain_df = train_df.dropna(how = 'any', axis = 'rows')\nprint('New size: %d' % len(train_df))",
      "execution_count": null,
      "outputs": []
    },
    {
      "metadata": {
        "_uuid": "6a045ef14c636ec726a5e8c349ca7e5fbb3a87c1"
      },
      "cell_type": "markdown",
      "source": "Now let's quickly plot a subset of our travel vector features to see its distribution."
    },
    {
      "metadata": {
        "trusted": true,
        "_uuid": "97d0aa1deab1c6cf0c97a4a3a12ba7007aada6c5",
        "collapsed": true
      },
      "cell_type": "code",
      "source": "#plot = train_df.iloc[:2000].plot.scatter('abs_diff_longitude', 'abs_diff_latitude')",
      "execution_count": null,
      "outputs": []
    },
    {
      "metadata": {
        "_uuid": "22277d77f75e3177a5acaec9b820e0de6e869663"
      },
      "cell_type": "markdown",
      "source": "We expect most of these values to be very small (likely between 0 and 1) since it should all be differences between GPS coordinates within one city.  For reference, one degree of latitude is about 69 miles.  However, we can see the dataset has extreme values which do not make sense.  Let's remove those values from our training set. Based on the scatterplot, it looks like we can safely exclude values above 5 (though remember the scatterplot is only showing the first 2000 rows...)"
    },
    {
      "metadata": {
        "trusted": true,
        "_uuid": "9703895e6c7e67b32c504f843b5ef19be2023964",
        "collapsed": true
      },
      "cell_type": "code",
      "source": "print('Old size: %d' % len(train_df))\ntrain_df = train_df[(train_df.abs_diff_longitude < 5.0) & (train_df.abs_diff_latitude < 5.0)]\nprint('New size: %d' % len(train_df))",
      "execution_count": null,
      "outputs": []
    },
    {
      "metadata": {
        "trusted": true,
        "_uuid": "b10f665e5fe23ae560461086b9f8274685dd4c8e",
        "collapsed": true
      },
      "cell_type": "code",
      "source": "def add_hour_features(df):\n    df['time_hour'] = df.pickup_datetime.apply(lambda x: x.hour)\n\nadd_hour_features(train_df)\ndel train_df['pickup_datetime']\nprint(train_df.dtypes)\ntrain_df.head(5)",
      "execution_count": null,
      "outputs": []
    },
    {
      "metadata": {
        "trusted": true,
        "_uuid": "576d2fbe046d64cba551908b5875bf7c5eef4537",
        "collapsed": true
      },
      "cell_type": "code",
      "source": "\n",
      "execution_count": null,
      "outputs": []
    },
    {
      "metadata": {
        "_uuid": "2151480a168d291bc2f4fd014fdac4ab7b5f6560"
      },
      "cell_type": "markdown",
      "source": "### Train our model\nOur model will take the form $X \\cdot w = y$ where $X$ is a matrix of input features, and $y$ is a column of the target variable, `fare_amount`, for each row. The weight column $w$ is what we will \"learn\".\n\nFirst let's setup our input matrix $X$ and target column $y$ from our training set.  The matrix $X$ should consist of the two GPS coordinate differences, plus a third term of 1 to allow the model to learn a constant bias term.  The column $y$ should consist of the target `fare_amount` values."
    },
    {
      "metadata": {
        "trusted": true,
        "_uuid": "fb752441a1c1ce3e01d78452389ec48c95d52dc6",
        "collapsed": true
      },
      "cell_type": "code",
      "source": "# Construct and return an Nx3 input matrix for our linear model\n# using the travel vector, plus a 1.0 for a constant bias term.\ndef get_input_matrix(df):\n    return np.column_stack((df.abs_diff_longitude, df.abs_diff_latitude,df.passenger_count, df.time_hour, np.ones(len(df))))\n    #return np.column_stack((df.abs_diff_longitude, df.abs_diff_latitude, df.passenger_count, np.ones(len(df))))\n    #return np.column_stack((df.pickup_longitude, df.pickup_latitude, df.dropoff_longitude, df.dropoff_latitude, df.passenger_count, np.ones(len(df))))\n\ntrain_X = get_input_matrix(train_df)\ntrain_y = np.array(train_df['fare_amount'])\n\nprint(train_X.shape)\nprint(train_y.shape)",
      "execution_count": null,
      "outputs": []
    },
    {
      "metadata": {
        "trusted": true,
        "_uuid": "bdf99bd3f499ee3f0b33708118c4f6a8e143e80c",
        "collapsed": true
      },
      "cell_type": "code",
      "source": "del train_df\nimport gc\ngc.collect()",
      "execution_count": null,
      "outputs": []
    },
    {
      "metadata": {
        "_uuid": "0dd0d8fe3f6478c050079df934381317a65f7d2b"
      },
      "cell_type": "markdown",
      "source": "Now let's use `numpy`'s `lstsq` library function to find the optimal weight column $w$."
    },
    {
      "metadata": {
        "trusted": true,
        "_uuid": "85abbb09a27d2e1e2a15b261264b3c7cbdde39e4",
        "collapsed": true
      },
      "cell_type": "code",
      "source": "# The lstsq function returns several things, and we only care about the actual weight vector w.\n##(w, _, _, _) = np.linalg.lstsq(train_X, train_y, rcond = None)\n##print(w)\nfrom sklearn.preprocessing import PolynomialFeatures\nfrom sklearn.linear_model import LinearRegression\nfrom sklearn.pipeline import Pipeline\nmodel = Pipeline([('poly', PolynomialFeatures(degree=3)),('linear', LinearRegression(fit_intercept=False))])\nmodel = model.fit(train_X,train_y)\nmodel.named_steps['linear'].coef_",
      "execution_count": null,
      "outputs": []
    },
    {
      "metadata": {
        "trusted": true,
        "_uuid": "5dc8e6db1b22e7064c1015d479c739f6459e9ec5",
        "collapsed": true
      },
      "cell_type": "code",
      "source": "del train_X\ndel train_y\nimport gc\ngc.collect()",
      "execution_count": null,
      "outputs": []
    },
    {
      "metadata": {
        "_uuid": "4c11c9993467cd31c6be525f864eae24b0da364d"
      },
      "cell_type": "markdown",
      "source": "These weights pass a quick sanity check, since we'd expect the first two values -- the weights for the absolute longitude and latitude differences -- to be positive, as more distance should imply a higher fare, and we'd expect the bias term to loosely represent the cost of a very short ride.\n\nSidenote:  we can actually calculate the weight column $w$ directly using the [Ordinary Least Squares](https://en.wikipedia.org/wiki/Ordinary_least_squares) method:\n$w = (X^T \\cdot X)^{-1} \\cdot X^T \\cdot y$"
    },
    {
      "metadata": {
        "_uuid": "a70ed21b43d720282bbae70e934b1188be2bc382"
      },
      "cell_type": "markdown",
      "source": "### Make predictions on the test set\nNow let's load up our test inputs and predict the `fare_amount`s for them using our learned weights!"
    },
    {
      "metadata": {
        "trusted": true,
        "_uuid": "3cbf4836cf8c71dfb67d13a9621b18a8d487197e",
        "collapsed": true
      },
      "cell_type": "code",
      "source": "test_df = pd.read_csv('../input/test.csv',parse_dates=[\"pickup_datetime\"], infer_datetime_format=True)\ntest_df.dtypes",
      "execution_count": null,
      "outputs": []
    },
    {
      "metadata": {
        "trusted": true,
        "_uuid": "ddba4a856ff617411a641dfdf7635e47f969dff8",
        "collapsed": true
      },
      "cell_type": "code",
      "source": "# Reuse the above helper functions to add our features and generate the input matrix.\nadd_travel_vector_features(test_df)\nadd_hour_features(test_df)\n\ntest_X = get_input_matrix(test_df)\n# Predict fare_amount on the test set using our model (w) trained on the training set.\n#test_y_predictions = np.matmul(test_X, w).round(decimals = 2)\ntest_y_predictions = np.array(model.predict(test_X))\n\n# Write the predictions to a CSV file which we can submit to the competition.\nsubmission = pd.DataFrame(\n    {'key': test_df.key, 'fare_amount': test_y_predictions},\n    columns = ['key', 'fare_amount'])\nsubmission.to_csv('submission26_deg3.csv', index = False)\n\nprint(os.listdir('.'))",
      "execution_count": null,
      "outputs": []
    },
    {
      "metadata": {
        "trusted": true,
        "collapsed": true,
        "_uuid": "49c20d5530c27346d5a42217bab67e10473453b6"
      },
      "cell_type": "code",
      "source": "",
      "execution_count": null,
      "outputs": []
    },
    {
      "metadata": {
        "_uuid": "80ed89470e25d75c0b99008b9c88861be9739da3"
      },
      "cell_type": "markdown",
      "source": "## Ideas for Improvement\nThe output here will score an RMSE of $5.74, but you can do better than that!  Here are some suggestions:\n\n* Use more columns from the input data.  Here we're only using the start/end GPS points from columns `[pickup|dropoff]_[latitude|longitude]`.  Try to see if the other columns -- `pickup_datetime` and `passenger_count` -- can help improve your results.\n* Use absolute location data rather than relative.  Here we're only looking at the difference between the start and end points, but maybe the actual values -- indicating where in NYC the taxi is traveling -- would be useful.\n* Use a non-linear model to capture more intricacies within the data.\n* Try to find more outliers to prune, or construct useful feature crosses.\n* Use the entire dataset -- here we're only using about 20% of the training data!"
    },
    {
      "metadata": {
        "_uuid": "8fd559ff5ca72a73091d5dfd5b7032522832e999"
      },
      "cell_type": "markdown",
      "source": "Special thanks to Dan Becker, Will Cukierski, and Julia Elliot for reviewing this Kernel and providing suggestions!"
    }
  ],
  "metadata": {
    "kernelspec": {
      "display_name": "Python 3",
      "language": "python",
      "name": "python3"
    },
    "language_info": {
      "name": "python",
      "version": "3.6.6",
      "mimetype": "text/x-python",
      "codemirror_mode": {
        "name": "ipython",
        "version": 3
      },
      "pygments_lexer": "ipython3",
      "nbconvert_exporter": "python",
      "file_extension": ".py"
    }
  },
  "nbformat": 4,
  "nbformat_minor": 1
}