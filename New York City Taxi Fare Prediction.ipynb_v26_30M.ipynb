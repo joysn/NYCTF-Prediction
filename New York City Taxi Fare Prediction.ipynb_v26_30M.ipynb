{
 "cells": [
  {
   "cell_type": "code",
   "execution_count": 32,
   "metadata": {
    "_cell_guid": "b1076dfc-b9ad-4769-8c92-a6c4dae69d19",
    "_uuid": "8f2839f25d086af736a60e9eeb907d3b93b6e0e5"
   },
   "outputs": [
    {
     "name": "stdout",
     "output_type": "stream",
     "text": [
      "['train.csv', 'sample_submission.csv', 'test.csv', 'GCP-Coupons-Instructions.rtf']\n",
      "fare_amount                 float32\n",
      "pickup_datetime      datetime64[ns]\n",
      "pickup_longitude            float32\n",
      "pickup_latitude             float32\n",
      "dropoff_longitude           float32\n",
      "dropoff_latitude            float32\n",
      "passenger_count               uint8\n",
      "dtype: object\n",
      "fare_amount                  float32\n",
      "pickup_datetime       datetime64[ns]\n",
      "passenger_count                uint8\n",
      "abs_diff_longitude           float32\n",
      "abs_diff_latitude            float32\n",
      "dtype: object\n",
      "   fare_amount     pickup_datetime  passenger_count  abs_diff_longitude  \\\n",
      "0          4.5 2009-06-15 17:26:21                1            0.002701   \n",
      "1         16.9 2010-01-05 16:52:16                1            0.036774   \n",
      "2          5.7 2011-08-18 00:35:00                2            0.008507   \n",
      "3          7.7 2012-04-21 04:30:42                1            0.004440   \n",
      "4          5.3 2010-03-09 07:51:00                1            0.011436   \n",
      "\n",
      "   abs_diff_latitude  \n",
      "0           0.009041  \n",
      "1           0.070702  \n",
      "2           0.010708  \n",
      "3           0.024948  \n",
      "4           0.015755  \n",
      "Old size: 30000000\n",
      "New size: 29999794\n",
      "Old size: 29999794\n",
      "New size: 29937817\n",
      "fare_amount           float32\n",
      "passenger_count         uint8\n",
      "abs_diff_longitude    float32\n",
      "abs_diff_latitude     float32\n",
      "time_hour               int64\n",
      "dtype: object\n",
      "   fare_amount  passenger_count  abs_diff_longitude  abs_diff_latitude  \\\n",
      "0          4.5                1            0.002701           0.009041   \n",
      "1         16.9                1            0.036774           0.070702   \n",
      "2          5.7                2            0.008507           0.010708   \n",
      "3          7.7                1            0.004440           0.024948   \n",
      "4          5.3                1            0.011436           0.015755   \n",
      "\n",
      "   time_hour  \n",
      "0         17  \n",
      "1         16  \n",
      "2          0  \n",
      "3          4  \n",
      "4          7  \n",
      "(29937817, 5)\n",
      "(29937817,)\n"
     ]
    },
    {
     "data": {
      "text/plain": [
       "14"
      ]
     },
     "execution_count": 32,
     "metadata": {},
     "output_type": "execute_result"
    }
   ],
   "source": [
    "import numpy as np # linear algebra\n",
    "import pandas as pd # CSV file I/O (e.g. pd.read_csv)\n",
    "import os # reading the input files we have access to\n",
    "\n",
    "print(os.listdir('./input'))\n",
    "\n",
    "types = {'fare_amount': 'float32',\n",
    "         'pickup_longitude': 'float32',\n",
    "         'pickup_latitude': 'float32',\n",
    "         'dropoff_longitude': 'float32',\n",
    "         'dropoff_latitude': 'float32',\n",
    "         'passenger_count': 'uint8'}\n",
    "\n",
    "# Columns to keep (basically discarding the 'key' column) \n",
    "cols = ['fare_amount', 'pickup_datetime', 'pickup_longitude', 'pickup_latitude', 'dropoff_longitude', 'dropoff_latitude', 'passenger_count']\n",
    "train_df =  pd.read_csv('./input/train.csv',  parse_dates=[\"pickup_datetime\"], usecols=cols, infer_datetime_format=True, dtype=types, nrows = 30_000_000)\n",
    "print(train_df.dtypes)\n",
    "\n",
    "# Given a dataframe, add two new features 'abs_diff_longitude' and\n",
    "# 'abs_diff_latitude' reprensenting the \"Manhattan vector\" from\n",
    "# the pickup location to the dropoff location.\n",
    "def add_travel_vector_features(df):\n",
    "    df['abs_diff_longitude'] = (df.dropoff_longitude - df.pickup_longitude).abs()\n",
    "    df['abs_diff_latitude'] = (df.dropoff_latitude - df.pickup_latitude).abs()\n",
    "\n",
    "add_travel_vector_features(train_df)\n",
    "del train_df['pickup_longitude']\n",
    "del train_df['pickup_latitude']\n",
    "del train_df['dropoff_longitude']\n",
    "del train_df['dropoff_latitude']\n",
    "print(train_df.dtypes)\n",
    "print(train_df.head(5))\n",
    "\n",
    "#print(train_df.isnull().sum())\n",
    "print('Old size: %d' % len(train_df))\n",
    "train_df = train_df.dropna(how = 'any', axis = 'rows')\n",
    "print('New size: %d' % len(train_df))\n",
    "\n",
    "#plot = train_df.iloc[:2000].plot.scatter('abs_diff_longitude', 'abs_diff_latitude')\n",
    "print('Old size: %d' % len(train_df))\n",
    "train_df = train_df[(train_df.abs_diff_longitude < 5.0) & (train_df.abs_diff_latitude < 5.0)]\n",
    "print('New size: %d' % len(train_df))\n",
    "\n",
    "def add_hour_features(df):\n",
    "    df['time_hour'] = df.pickup_datetime.apply(lambda x: x.hour)\n",
    "\n",
    "add_hour_features(train_df)\n",
    "del train_df['pickup_datetime']\n",
    "print(train_df.dtypes)\n",
    "print(train_df.head(5))\n",
    "\n",
    "def get_input_matrix(df):\n",
    "    return np.column_stack((df.abs_diff_longitude, df.abs_diff_latitude,df.passenger_count, df.time_hour, np.ones(len(df))))\n",
    "    \n",
    "train_X = get_input_matrix(train_df)\n",
    "train_y = np.array(train_df['fare_amount'])\n",
    "\n",
    "print(train_X.shape)\n",
    "print(train_y.shape)\n",
    "\n",
    "del train_df\n",
    "import gc\n",
    "gc.collect()\n"
   ]
  },
  {
   "cell_type": "code",
   "execution_count": 33,
   "metadata": {
    "_uuid": "85abbb09a27d2e1e2a15b261264b3c7cbdde39e4"
   },
   "outputs": [
    {
     "name": "stdout",
     "output_type": "stream",
     "text": [
      "[ 9.43681884e-01  5.66752344e+01  5.54023569e+01  2.16829344e-02\n",
      " -9.21165676e-03  9.43681884e-01 -7.97896411e+01 -4.45102985e+01\n",
      "  2.01488710e+00  3.92881423e+00  5.66752344e+01 -6.16724220e+01\n",
      " -2.53323756e+00 -2.86002733e+00  5.54023569e+01 -1.45910559e-02\n",
      "  7.84392297e-03  2.16829331e-02  5.78150727e-03 -9.21165761e-03\n",
      "  9.43681885e-01  2.53064338e+01  1.52014481e+01  9.75278944e-01\n",
      "  6.88114841e-02 -7.97896411e+01  1.41203987e+01 -6.68421928e+00\n",
      " -4.37824337e-01 -4.45102985e+01 -3.62458158e-01 -5.89287188e-02\n",
      "  2.01488710e+00 -3.24520607e-01  3.92881423e+00  5.66752344e+01\n",
      "  2.14638681e+01  4.88714883e-01 -2.10470963e-01 -6.16724220e+01\n",
      "  1.29878295e+00 -1.40994825e-02 -2.53323755e+00  2.53222366e-01\n",
      " -2.86002733e+00  5.54023569e+01  1.38517167e-04 -2.13925158e-05\n",
      " -1.45910560e-02 -6.22942750e-04  7.84392306e-03  2.16829331e-02\n",
      " -4.72819371e-04  5.78151041e-03 -9.21165740e-03  9.43681885e-01]\n"
     ]
    },
    {
     "data": {
      "text/plain": [
       "0"
      ]
     },
     "execution_count": 33,
     "metadata": {},
     "output_type": "execute_result"
    }
   ],
   "source": [
    "from sklearn.preprocessing import PolynomialFeatures\n",
    "from sklearn.linear_model import LinearRegression\n",
    "from sklearn.pipeline import Pipeline\n",
    "model = Pipeline([('poly', PolynomialFeatures(degree=3)),('linear', LinearRegression(fit_intercept=False))])\n",
    "model = model.fit(train_X,train_y)\n",
    "print(model.named_steps['linear'].coef_)\n",
    "del train_X\n",
    "del train_y\n",
    "import gc\n",
    "gc.collect()"
   ]
  },
  {
   "cell_type": "code",
   "execution_count": 34,
   "metadata": {
    "_uuid": "ddba4a856ff617411a641dfdf7635e47f969dff8"
   },
   "outputs": [
    {
     "name": "stdout",
     "output_type": "stream",
     "text": [
      "key                          object\n",
      "pickup_datetime      datetime64[ns]\n",
      "pickup_longitude            float64\n",
      "pickup_latitude             float64\n",
      "dropoff_longitude           float64\n",
      "dropoff_latitude            float64\n",
      "passenger_count               int64\n",
      "dtype: object\n",
      "['.ipynb_checkpoints', 'submission26_deg3_30k.csv', 'train.csv.zip', 'New York City Taxi Fare Prediction.ipynb_v26.ipynb', 'input', 'submission26_deg3_20k.csv']\n"
     ]
    }
   ],
   "source": [
    "test_df = pd.read_csv('./input/test.csv',parse_dates=[\"pickup_datetime\"], infer_datetime_format=True)\n",
    "print(test_df.dtypes)\n",
    "\n",
    "# Reuse the above helper functions to add our features and generate the input matrix.\n",
    "add_travel_vector_features(test_df)\n",
    "add_hour_features(test_df)\n",
    "\n",
    "test_X = get_input_matrix(test_df)\n",
    "# Predict fare_amount on the test set using our model (w) trained on the training set.\n",
    "test_y_predictions = np.array(model.predict(test_X))\n",
    "\n",
    "# Write the predictions to a CSV file which we can submit to the competition.\n",
    "submission = pd.DataFrame(\n",
    "    {'key': test_df.key, 'fare_amount': test_y_predictions},\n",
    "    columns = ['key', 'fare_amount'])\n",
    "submission.to_csv('submission26_deg3_30k.csv', index = False)\n",
    "\n",
    "print(os.listdir('.'))"
   ]
  },
  {
   "cell_type": "code",
   "execution_count": null,
   "metadata": {
    "_uuid": "49c20d5530c27346d5a42217bab67e10473453b6",
    "collapsed": true
   },
   "outputs": [],
   "source": []
  },
  {
   "cell_type": "markdown",
   "metadata": {
    "_uuid": "80ed89470e25d75c0b99008b9c88861be9739da3"
   },
   "source": [
    "## Ideas for Improvement\n",
    "The output here will score an RMSE of $5.74, but you can do better than that!  Here are some suggestions:\n",
    "\n",
    "* Use more columns from the input data.  Here we're only using the start/end GPS points from columns `[pickup|dropoff]_[latitude|longitude]`.  Try to see if the other columns -- `pickup_datetime` and `passenger_count` -- can help improve your results.\n",
    "* Use absolute location data rather than relative.  Here we're only looking at the difference between the start and end points, but maybe the actual values -- indicating where in NYC the taxi is traveling -- would be useful.\n",
    "* Use a non-linear model to capture more intricacies within the data.\n",
    "* Try to find more outliers to prune, or construct useful feature crosses.\n",
    "* Use the entire dataset -- here we're only using about 20% of the training data!"
   ]
  },
  {
   "cell_type": "markdown",
   "metadata": {
    "_uuid": "8fd559ff5ca72a73091d5dfd5b7032522832e999"
   },
   "source": [
    "Special thanks to Dan Becker, Will Cukierski, and Julia Elliot for reviewing this Kernel and providing suggestions!"
   ]
  }
 ],
 "metadata": {
  "kernelspec": {
   "display_name": "Python 3",
   "language": "python",
   "name": "python3"
  },
  "language_info": {
   "codemirror_mode": {
    "name": "ipython",
    "version": 3
   },
   "file_extension": ".py",
   "mimetype": "text/x-python",
   "name": "python",
   "nbconvert_exporter": "python",
   "pygments_lexer": "ipython3",
   "version": "3.6.5"
  }
 },
 "nbformat": 4,
 "nbformat_minor": 1
}
